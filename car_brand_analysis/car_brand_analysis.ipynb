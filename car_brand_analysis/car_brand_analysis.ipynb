{
 "cells": [
  {
   "cell_type": "markdown",
   "id": "2ac72332",
   "metadata": {},
   "source": [
    "# Car Brand Analysis\n",
    "\n",
    "This project analyzes user comments from an automotive forum to understand the popularity and co-occurrence of car brands. Data is scraped from a forum and processed to extract brand mentions using a brand-to-model mapping. Frequencies and co-occurrence networks highlight which brands are most talked about and how they appear together in discussions.\n",
    "\n",
    "# HW 1"
   ]
  },
  {
   "cell_type": "code",
   "execution_count": 3,
   "id": "34f51ff2",
   "metadata": {},
   "outputs": [],
   "source": [
    "from selenium import webdriver\n",
    "from selenium.webdriver.chrome.options import Options\n",
    "from selenium.webdriver.common.by import By\n",
    "from selenium.webdriver.support.ui import WebDriverWait\n",
    "from selenium.webdriver.support import expected_conditions as EC\n",
    "import pandas as pd\n",
    "import numpy as np\n",
    "from collections import Counter\n",
    "import nltk\n",
    "from nltk.tokenize import word_tokenize\n",
    "import statsmodels.api as sm\n",
    "import matplotlib.pyplot as plt\n",
    "import regex as re"
   ]
  },
  {
   "cell_type": "code",
   "execution_count": 95,
   "id": "e6da37cb",
   "metadata": {},
   "outputs": [],
   "source": [
    "# Set Chrome options\n",
    "options = Options()\n",
    "options.add_argument(\"--headless=new\")\n",
    "options.add_argument(\"--disable-gpu\")\n",
    "options.add_argument(\"--no-sandbox\")\n",
    "\n",
    "driver = webdriver.Chrome(options=options)\n",
    "\n",
    "# Open the edmunds page\n",
    "url = \"https://forums.edmunds.com/discussion/2864/general/x/entry-level-luxury-performance-sedans\"\n",
    "driver.get(url)\n"
   ]
  },
  {
   "cell_type": "code",
   "execution_count": 96,
   "id": "36f90f53",
   "metadata": {},
   "outputs": [],
   "source": [
    "# find all pages\n",
    "pages = driver.find_elements(By.XPATH, '//span[@id=\"PagerBefore\"]/a[contains(@class, \"Pager-p\")]')\n",
    "last_page_num = int((pages[-1].get_attribute(\"href\")).rsplit('/',1)[1][1:])\n",
    "page_links = [url]\n",
    "for i in range(2,last_page_num+1):\n",
    "    page_links.append(url + f'/p{i}')"
   ]
  },
  {
   "cell_type": "code",
   "execution_count": null,
   "id": "f24c65bf",
   "metadata": {},
   "outputs": [],
   "source": [
    "#scrape ~ 8000 comments\n",
    "df = pd.DataFrame(columns=['userid', 'date', 'message'])\n",
    "N = len(df.index)\n",
    "for page in page_links:\n",
    "    if N > 8000:\n",
    "        break\n",
    "    driver.get(page)\n",
    "    # Each comment is wrapped in .Item.Comment\n",
    "    elements = driver.find_elements(By.CLASS_NAME, \"Comment\")\n",
    "\n",
    "    for item in elements:\n",
    "        author = item.find_element(By.CSS_SELECTOR, \".Username\").text.strip()\n",
    "        date = item.find_element(By.CSS_SELECTOR, \".DateCreated\").text.strip()\n",
    "        # Get comment body\n",
    "        comment = item.find_element(By.CSS_SELECTOR, \".Message\")\n",
    "        driver.execute_script(\"arguments[0].querySelectorAll('blockquote').forEach(el => el.remove());\", comment)\n",
    "        text = comment.text.strip()\n",
    "\n",
    "        df.loc[len(df.index)] = [author, date, text]\n",
    "    \n",
    "    N = len(df.index)\n"
   ]
  },
  {
   "cell_type": "code",
   "execution_count": 6,
   "id": "2de15359",
   "metadata": {},
   "outputs": [
    {
     "name": "stdout",
     "output_type": "stream",
     "text": [
      "                            OLS Regression Results                            \n",
      "==============================================================================\n",
      "Dep. Variable:               log_freq   R-squared:                       0.977\n",
      "Model:                            OLS   Adj. R-squared:                  0.977\n",
      "Method:                 Least Squares   F-statistic:                 1.356e+06\n",
      "Date:                Thu, 11 Sep 2025   Prob (F-statistic):               0.00\n",
      "Time:                        13:02:28   Log-Likelihood:                 4925.1\n",
      "No. Observations:               31450   AIC:                            -9846.\n",
      "Df Residuals:                   31448   BIC:                            -9829.\n",
      "Df Model:                           1                                         \n",
      "Covariance Type:            nonrobust                                         \n",
      "==============================================================================\n",
      "                 coef    std err          t      P>|t|      [0.025      0.975]\n",
      "------------------------------------------------------------------------------\n",
      "const         13.7063      0.011   1247.283      0.000      13.685      13.728\n",
      "log_rank      -1.3598      0.001  -1164.339      0.000      -1.362      -1.357\n",
      "==============================================================================\n",
      "Omnibus:                     5280.825   Durbin-Watson:                   0.002\n",
      "Prob(Omnibus):                  0.000   Jarque-Bera (JB):            15847.345\n",
      "Skew:                          -0.881   Prob(JB):                         0.00\n",
      "Kurtosis:                       5.998   Cond. No.                         89.6\n",
      "==============================================================================\n",
      "\n",
      "Notes:\n",
      "[1] Standard Errors assume that the covariance matrix of the errors is correctly specified.\n"
     ]
    },
    {
     "data": {
      "image/png": "[encoded data removed]",
      "text/plain": [
       "<Figure size 640x480 with 1 Axes>"
      ]
     },
     "metadata": {},
     "output_type": "display_data"
    }
   ],
   "source": [
    "# get all words\n",
    "text = \" \".join(df['message'].dropna().tolist())\n",
    "words = word_tokenize(text)\n",
    "\n",
    "# count frequencies\n",
    "freq = Counter(words)\n",
    "\n",
    "# rank words\n",
    "freq_df = pd.DataFrame(freq.items(), columns=['word', 'frequency'])\n",
    "freq_df = freq_df.sort_values(by='frequency', ascending=False).reset_index(drop=True)\n",
    "freq_df['rank'] = np.arange(1, len(freq_df)+1)\n",
    "\n",
    "# log transform\n",
    "freq_df['log_rank'] = np.log(freq_df['rank'])\n",
    "freq_df['log_freq'] = np.log(freq_df['frequency'])\n",
    "\n",
    "# linear regression\n",
    "X = sm.add_constant(freq_df['log_rank'])\n",
    "y = freq_df['log_freq']\n",
    "model = sm.OLS(y, X).fit()\n",
    "\n",
    "print(model.summary())\n",
    "\n",
    "# plot\n",
    "plt.scatter(freq_df['log_rank'], freq_df['log_freq'], alpha=0.5, label=\"Data\")\n",
    "plt.plot(freq_df['log_rank'], model.predict(X), color=\"cyan\", label=\"OLS Fit\")\n",
    "plt.plot(np.linspace(.1,11,100), 11- np.linspace(.1,11,100),color = 'red', label = 'Slope = -1')\n",
    "plt.xlabel(\"log(Rank)\")\n",
    "plt.ylabel(\"log(Frequency)\")\n",
    "plt.legend()\n",
    "plt.title(\"Zipf's Law on Edmunds Forum Comments\")\n",
    "plt.show()"
   ]
  },
  {
   "cell_type": "code",
   "execution_count": null,
   "id": "399923db",
   "metadata": {},
   "outputs": [],
   "source": [
    "# load brand to model dictionary\n",
    "sample_data = pd.read_csv('car_forum_comments.csv', names=['userid', 'date', 'message'])\n",
    "models_to_brands = pd.read_csv('car_models_and_brands.csv')\n",
    "brands_dict = models_to_brands.set_index('Model').to_dict().get('Brand')\n",
    "\n",
    "# uncomment to load scrapped data\n",
    "# df = pd.read_csv('car_data.csv', dtype=str)\n"
   ]
  },
  {
   "cell_type": "code",
   "execution_count": 8,
   "id": "9733ceff",
   "metadata": {},
   "outputs": [
    {
     "name": "stderr",
     "output_type": "stream",
     "text": [
      "[nltk_data] Downloading package stopwords to\n",
      "[nltk_data]     C:\\Users\\frank\\AppData\\Roaming\\nltk_data...\n",
      "[nltk_data]   Package stopwords is already up-to-date!\n",
      "[nltk_data] Downloading package punkt to\n",
      "[nltk_data]     C:\\Users\\frank\\AppData\\Roaming\\nltk_data...\n",
      "[nltk_data]   Package punkt is already up-to-date!\n"
     ]
    },
    {
     "data": {
      "application/vnd.microsoft.datawrangler.viewer.v0+json": {
       "columns": [
        {
         "name": "index",
         "rawType": "int64",
         "type": "integer"
        },
        {
         "name": "brands",
         "rawType": "object",
         "type": "unknown"
        }
       ],
       "ref": "84efa540-5db2-4b32-93fe-54310915f109",
       "rows": [
        [
         "0",
         "['acura', 'audi', 'bmw', 'buick', 'car', 'chrysler', 'ford', 'mercedes-benz', 'seat', 'sedan', 'toyota']"
        ],
        [
         "1",
         "['honda']"
        ],
        [
         "2",
         "[]"
        ],
        [
         "3",
         "[]"
        ],
        [
         "4",
         "['bmw']"
        ],
        [
         "5",
         "['bmw', 'car', 'sedan']"
        ],
        [
         "6",
         "[]"
        ],
        [
         "7",
         "['car', 'toyota']"
        ],
        [
         "8",
         "[]"
        ],
        [
         "9",
         "[]"
        ],
        [
         "10",
         "['audi', 'bmw', 'cadillac']"
        ],
        [
         "11",
         "['bmw']"
        ],
        [
         "12",
         "['audi', 'bmw', 'car', 'infiniti']"
        ],
        [
         "13",
         "['car', 'sedan']"
        ],
        [
         "14",
         "[]"
        ],
        [
         "15",
         "['audi']"
        ],
        [
         "16",
         "[]"
        ],
        [
         "17",
         "['car', 'toyota']"
        ],
        [
         "18",
         "['toyota']"
        ],
        [
         "19",
         "['sedan']"
        ],
        [
         "20",
         "['bmw', 'car', 'infiniti']"
        ],
        [
         "21",
         "[]"
        ],
        [
         "22",
         "['car', 'sedan']"
        ],
        [
         "23",
         "['bmw', 'cadillac', 'car', 'infiniti', 'lincoln', 'nissan', 'sedan']"
        ],
        [
         "24",
         "['acura', 'car']"
        ],
        [
         "25",
         "['infiniti']"
        ],
        [
         "26",
         "['infiniti', 'sedan']"
        ],
        [
         "27",
         "['car', 'infiniti']"
        ],
        [
         "28",
         "[]"
        ],
        [
         "29",
         "['audi']"
        ],
        [
         "30",
         "['audi', 'car', 'mercedes-benz']"
        ],
        [
         "31",
         "['audi', 'car']"
        ],
        [
         "32",
         "['car', 'mercedes-benz']"
        ],
        [
         "33",
         "['car']"
        ],
        [
         "34",
         "[]"
        ],
        [
         "35",
         "['acura', 'audi', 'bmw', 'car', 'infiniti', 'nissan', 'volvo']"
        ],
        [
         "36",
         "['honda', 'lincoln', 'mercedes-benz', 'nissan', 'toyota', 'volkswagen']"
        ],
        [
         "37",
         "['bmw', 'car', 'nissan']"
        ],
        [
         "38",
         "['bmw', 'car', 'nissan', 'nissan.']"
        ],
        [
         "39",
         "[]"
        ],
        [
         "40",
         "[]"
        ],
        [
         "41",
         "['acura']"
        ],
        [
         "42",
         "['acura']"
        ],
        [
         "43",
         "['acura']"
        ],
        [
         "44",
         "['car']"
        ],
        [
         "45",
         "['audi']"
        ],
        [
         "46",
         "['audi']"
        ],
        [
         "47",
         "[]"
        ],
        [
         "48",
         "['bmw']"
        ],
        [
         "49",
         "['car', 'chrysler', 'ford', 'honda', 'toyota']"
        ]
       ],
       "shape": {
        "columns": 1,
        "rows": 8031
       }
      },
      "text/plain": [
       "0       [acura, audi, bmw, buick, car, chrysler, ford,...\n",
       "1                                                 [honda]\n",
       "2                                                      []\n",
       "3                                                      []\n",
       "4                                                   [bmw]\n",
       "                              ...                        \n",
       "8026                                                [car]\n",
       "8027                         [audi, bmw, cadillac, volvo]\n",
       "8028                                               [audi]\n",
       "8029                                                   []\n",
       "8030                                    [bmw, car, sedan]\n",
       "Name: brands, Length: 8031, dtype: object"
      ]
     },
     "execution_count": 8,
     "metadata": {},
     "output_type": "execute_result"
    }
   ],
   "source": [
    "from nltk.corpus import stopwords\n",
    "\n",
    "nltk.download('stopwords')\n",
    "nltk.download('punkt')\n",
    "\n",
    "stop_words = set(stopwords.words('english'))\n",
    "\n",
    "# remove stop words, then find brands mentioned, dropping duplicates to avoid double counting\n",
    "def filter_replace_find(s):\n",
    "    s = str(s).lower()\n",
    "    for token, value in brands_dict.items():\n",
    "        s = s.replace(token, value)\n",
    "    words = s.split()\n",
    "    filtered_words = [word.lower() for word in words if word not in stop_words]\n",
    "    return list(models_to_brands[models_to_brands['Brand'].isin(filtered_words)]['Brand'].drop_duplicates()), ' '.join(filtered_words)\n",
    "\n",
    "df[['brands', 'cleaned_message']] = df['message'].map(filter_replace_find).apply(pd.Series)\n",
    "df['brands']"
   ]
  },
  {
   "cell_type": "code",
   "execution_count": 9,
   "id": "3b80c754",
   "metadata": {},
   "outputs": [
    {
     "data": {
      "application/vnd.microsoft.datawrangler.viewer.v0+json": {
       "columns": [
        {
         "name": "index",
         "rawType": "int64",
         "type": "integer"
        },
        {
         "name": "brand",
         "rawType": "object",
         "type": "string"
        },
        {
         "name": "frequency",
         "rawType": "int64",
         "type": "integer"
        }
       ],
       "ref": "5f954ba9-7077-4dda-9eca-98abb47655fe",
       "rows": [
        [
         "2",
         "bmw",
         "2171"
        ],
        [
         "0",
         "acura",
         "679"
        ],
        [
         "1",
         "audi",
         "553"
        ],
        [
         "11",
         "honda",
         "504"
        ],
        [
         "13",
         "infiniti",
         "473"
        ],
        [
         "10",
         "toyota",
         "372"
        ],
        [
         "7",
         "mercedes-benz",
         "304"
        ],
        [
         "15",
         "nissan",
         "283"
        ],
        [
         "16",
         "volvo",
         "245"
        ],
        [
         "28",
         "subaru",
         "212"
        ]
       ],
       "shape": {
        "columns": 2,
        "rows": 10
       }
      },
      "text/html": [
       "<div>\n",
       "<style scoped>\n",
       "    .dataframe tbody tr th:only-of-type {\n",
       "        vertical-align: middle;\n",
       "    }\n",
       "\n",
       "    .dataframe tbody tr th {\n",
       "        vertical-align: top;\n",
       "    }\n",
       "\n",
       "    .dataframe thead th {\n",
       "        text-align: right;\n",
       "    }\n",
       "</style>\n",
       "<table border=\"1\" class=\"dataframe\">\n",
       "  <thead>\n",
       "    <tr style=\"text-align: right;\">\n",
       "      <th></th>\n",
       "      <th>brand</th>\n",
       "      <th>frequency</th>\n",
       "    </tr>\n",
       "  </thead>\n",
       "  <tbody>\n",
       "    <tr>\n",
       "      <th>2</th>\n",
       "      <td>bmw</td>\n",
       "      <td>2171</td>\n",
       "    </tr>\n",
       "    <tr>\n",
       "      <th>0</th>\n",
       "      <td>acura</td>\n",
       "      <td>679</td>\n",
       "    </tr>\n",
       "    <tr>\n",
       "      <th>1</th>\n",
       "      <td>audi</td>\n",
       "      <td>553</td>\n",
       "    </tr>\n",
       "    <tr>\n",
       "      <th>11</th>\n",
       "      <td>honda</td>\n",
       "      <td>504</td>\n",
       "    </tr>\n",
       "    <tr>\n",
       "      <th>13</th>\n",
       "      <td>infiniti</td>\n",
       "      <td>473</td>\n",
       "    </tr>\n",
       "    <tr>\n",
       "      <th>10</th>\n",
       "      <td>toyota</td>\n",
       "      <td>372</td>\n",
       "    </tr>\n",
       "    <tr>\n",
       "      <th>7</th>\n",
       "      <td>mercedes-benz</td>\n",
       "      <td>304</td>\n",
       "    </tr>\n",
       "    <tr>\n",
       "      <th>15</th>\n",
       "      <td>nissan</td>\n",
       "      <td>283</td>\n",
       "    </tr>\n",
       "    <tr>\n",
       "      <th>16</th>\n",
       "      <td>volvo</td>\n",
       "      <td>245</td>\n",
       "    </tr>\n",
       "    <tr>\n",
       "      <th>28</th>\n",
       "      <td>subaru</td>\n",
       "      <td>212</td>\n",
       "    </tr>\n",
       "  </tbody>\n",
       "</table>\n",
       "</div>"
      ],
      "text/plain": [
       "            brand  frequency\n",
       "2             bmw       2171\n",
       "0           acura        679\n",
       "1            audi        553\n",
       "11          honda        504\n",
       "13       infiniti        473\n",
       "10         toyota        372\n",
       "7   mercedes-benz        304\n",
       "15         nissan        283\n",
       "16          volvo        245\n",
       "28         subaru        212"
      ]
     },
     "execution_count": 9,
     "metadata": {},
     "output_type": "execute_result"
    }
   ],
   "source": [
    "# count frequencies\n",
    "freq = Counter(df[\"brands\"].dropna().sum() )\n",
    "\n",
    "brand_freq = pd.DataFrame(freq.items(), columns=['brand', 'frequency']).sort_values(by='frequency', ascending=False)\n",
    "top_10 = brand_freq[~ brand_freq['brand'].isin(['car','problem','seat','sedan'])][:10]\n",
    "top_10"
   ]
  },
  {
   "cell_type": "code",
   "execution_count": 10,
   "id": "82f6b53a",
   "metadata": {},
   "outputs": [
    {
     "data": {
      "application/vnd.microsoft.datawrangler.viewer.v0+json": {
       "columns": [
        {
         "name": "brand",
         "rawType": "object",
         "type": "string"
        },
        {
         "name": "bmw",
         "rawType": "float64",
         "type": "float"
        },
        {
         "name": "acura",
         "rawType": "float64",
         "type": "float"
        },
        {
         "name": "audi",
         "rawType": "float64",
         "type": "float"
        },
        {
         "name": "honda",
         "rawType": "float64",
         "type": "float"
        },
        {
         "name": "infiniti",
         "rawType": "float64",
         "type": "float"
        },
        {
         "name": "toyota",
         "rawType": "float64",
         "type": "float"
        },
        {
         "name": "mercedes-benz",
         "rawType": "float64",
         "type": "float"
        },
        {
         "name": "nissan",
         "rawType": "float64",
         "type": "float"
        },
        {
         "name": "volvo",
         "rawType": "float64",
         "type": "float"
        },
        {
         "name": "subaru",
         "rawType": "float64",
         "type": "float"
        }
       ],
       "ref": "081e4bcf-21c4-4b25-af7f-af1bfb16576b",
       "rows": [
        [
         "bmw",
         null,
         "1.4273856275214383",
         "1.7258552862282113",
         "1.2037134522164463",
         "1.876981116641331",
         "1.5413403961308152",
         "1.934787813037892",
         "1.1241436670014144",
         "1.4192914014984161",
         "0.9946007839183751"
        ],
        [
         "acura",
         "1.4273856275214383",
         null,
         "2.3099281732789683",
         "2.792648502700049",
         "3.3507614418666924",
         "1.7169224191172978",
         "2.178784590341834",
         "2.13149143668979",
         "2.7034714916894593",
         "2.00847528274099"
        ],
        [
         "audi",
         "1.7258552862282113",
         "2.3099281732789683",
         null,
         "1.2966610694910876",
         "2.6711766302581728",
         "1.2102169981916817",
         "3.7739661654135337",
         "1.4368654112805832",
         "4.564246964608628",
         "1.7125712238561535"
        ],
        [
         "honda",
         "1.2037134522164463",
         "2.792648502700049",
         "1.2966610694910876",
         null,
         "1.3475284405516963",
         "3.812291986687148",
         "1.9393992794486214",
         "3.8287901733131413",
         "2.406438289601555",
         "1.27776841868823"
        ],
        [
         "infiniti",
         "1.876981116641331",
         "3.3507614418666924",
         "2.6711766302581728",
         "1.3475284405516963",
         null,
         "1.1410523085316784",
         "2.457466340269278",
         "2.8198103975078253",
         "2.4255511929930536",
         "2.002223862140492"
        ],
        [
         "toyota",
         "1.5413403961308152",
         "1.7169224191172978",
         "1.2102169981916817",
         "3.812291986687148",
         "1.1410523085316784",
         null,
         "1.9884337860780985",
         "3.8905448535278695",
         "2.9959842001316654",
         "1.2220024345709068"
        ],
        [
         "mercedes-benz",
         "1.934787813037892",
         "2.178784590341834",
         "3.7739661654135337",
         "1.9393992794486214",
         "2.457466340269278",
         "1.9884337860780985",
         null,
         "1.4002347963548447",
         "5.822690655209453",
         "1.495345084409136"
        ],
        [
         "nissan",
         "1.1241436670014144",
         "2.13149143668979",
         "1.4368654112805832",
         "3.8287901733131413",
         "2.8198103975078253",
         "3.8905448535278695",
         "1.4002347963548447",
         null,
         "2.8957236604889305",
         "2.14174278285219"
        ],
        [
         "volvo",
         "1.4192914014984161",
         "2.7034714916894593",
         "4.564246964608628",
         "2.406438289601555",
         "2.4255511929930536",
         "2.9959842001316654",
         "5.822690655209453",
         "2.8957236604889305",
         null,
         "4.174759337697343"
        ],
        [
         "subaru",
         "0.9946007839183751",
         "2.00847528274099",
         "1.7125712238561535",
         "1.27776841868823",
         "2.002223862140492",
         "1.2220024345709068",
         "1.495345084409136",
         "2.14174278285219",
         "4.174759337697343",
         null
        ]
       ],
       "shape": {
        "columns": 10,
        "rows": 10
       }
      },
      "text/html": [
       "<div>\n",
       "<style scoped>\n",
       "    .dataframe tbody tr th:only-of-type {\n",
       "        vertical-align: middle;\n",
       "    }\n",
       "\n",
       "    .dataframe tbody tr th {\n",
       "        vertical-align: top;\n",
       "    }\n",
       "\n",
       "    .dataframe thead th {\n",
       "        text-align: right;\n",
       "    }\n",
       "</style>\n",
       "<table border=\"1\" class=\"dataframe\">\n",
       "  <thead>\n",
       "    <tr style=\"text-align: right;\">\n",
       "      <th>brand</th>\n",
       "      <th>bmw</th>\n",
       "      <th>acura</th>\n",
       "      <th>audi</th>\n",
       "      <th>honda</th>\n",
       "      <th>infiniti</th>\n",
       "      <th>toyota</th>\n",
       "      <th>mercedes-benz</th>\n",
       "      <th>nissan</th>\n",
       "      <th>volvo</th>\n",
       "      <th>subaru</th>\n",
       "    </tr>\n",
       "    <tr>\n",
       "      <th>brand</th>\n",
       "      <th></th>\n",
       "      <th></th>\n",
       "      <th></th>\n",
       "      <th></th>\n",
       "      <th></th>\n",
       "      <th></th>\n",
       "      <th></th>\n",
       "      <th></th>\n",
       "      <th></th>\n",
       "      <th></th>\n",
       "    </tr>\n",
       "  </thead>\n",
       "  <tbody>\n",
       "    <tr>\n",
       "      <th>bmw</th>\n",
       "      <td>NaN</td>\n",
       "      <td>1.427386</td>\n",
       "      <td>1.725855</td>\n",
       "      <td>1.203713</td>\n",
       "      <td>1.876981</td>\n",
       "      <td>1.541340</td>\n",
       "      <td>1.934788</td>\n",
       "      <td>1.124144</td>\n",
       "      <td>1.419291</td>\n",
       "      <td>0.994601</td>\n",
       "    </tr>\n",
       "    <tr>\n",
       "      <th>acura</th>\n",
       "      <td>1.427386</td>\n",
       "      <td>NaN</td>\n",
       "      <td>2.309928</td>\n",
       "      <td>2.792649</td>\n",
       "      <td>3.350761</td>\n",
       "      <td>1.716922</td>\n",
       "      <td>2.178785</td>\n",
       "      <td>2.131491</td>\n",
       "      <td>2.703471</td>\n",
       "      <td>2.008475</td>\n",
       "    </tr>\n",
       "    <tr>\n",
       "      <th>audi</th>\n",
       "      <td>1.725855</td>\n",
       "      <td>2.309928</td>\n",
       "      <td>NaN</td>\n",
       "      <td>1.296661</td>\n",
       "      <td>2.671177</td>\n",
       "      <td>1.210217</td>\n",
       "      <td>3.773966</td>\n",
       "      <td>1.436865</td>\n",
       "      <td>4.564247</td>\n",
       "      <td>1.712571</td>\n",
       "    </tr>\n",
       "    <tr>\n",
       "      <th>honda</th>\n",
       "      <td>1.203713</td>\n",
       "      <td>2.792649</td>\n",
       "      <td>1.296661</td>\n",
       "      <td>NaN</td>\n",
       "      <td>1.347528</td>\n",
       "      <td>3.812292</td>\n",
       "      <td>1.939399</td>\n",
       "      <td>3.828790</td>\n",
       "      <td>2.406438</td>\n",
       "      <td>1.277768</td>\n",
       "    </tr>\n",
       "    <tr>\n",
       "      <th>infiniti</th>\n",
       "      <td>1.876981</td>\n",
       "      <td>3.350761</td>\n",
       "      <td>2.671177</td>\n",
       "      <td>1.347528</td>\n",
       "      <td>NaN</td>\n",
       "      <td>1.141052</td>\n",
       "      <td>2.457466</td>\n",
       "      <td>2.819810</td>\n",
       "      <td>2.425551</td>\n",
       "      <td>2.002224</td>\n",
       "    </tr>\n",
       "    <tr>\n",
       "      <th>toyota</th>\n",
       "      <td>1.541340</td>\n",
       "      <td>1.716922</td>\n",
       "      <td>1.210217</td>\n",
       "      <td>3.812292</td>\n",
       "      <td>1.141052</td>\n",
       "      <td>NaN</td>\n",
       "      <td>1.988434</td>\n",
       "      <td>3.890545</td>\n",
       "      <td>2.995984</td>\n",
       "      <td>1.222002</td>\n",
       "    </tr>\n",
       "    <tr>\n",
       "      <th>mercedes-benz</th>\n",
       "      <td>1.934788</td>\n",
       "      <td>2.178785</td>\n",
       "      <td>3.773966</td>\n",
       "      <td>1.939399</td>\n",
       "      <td>2.457466</td>\n",
       "      <td>1.988434</td>\n",
       "      <td>NaN</td>\n",
       "      <td>1.400235</td>\n",
       "      <td>5.822691</td>\n",
       "      <td>1.495345</td>\n",
       "    </tr>\n",
       "    <tr>\n",
       "      <th>nissan</th>\n",
       "      <td>1.124144</td>\n",
       "      <td>2.131491</td>\n",
       "      <td>1.436865</td>\n",
       "      <td>3.828790</td>\n",
       "      <td>2.819810</td>\n",
       "      <td>3.890545</td>\n",
       "      <td>1.400235</td>\n",
       "      <td>NaN</td>\n",
       "      <td>2.895724</td>\n",
       "      <td>2.141743</td>\n",
       "    </tr>\n",
       "    <tr>\n",
       "      <th>volvo</th>\n",
       "      <td>1.419291</td>\n",
       "      <td>2.703471</td>\n",
       "      <td>4.564247</td>\n",
       "      <td>2.406438</td>\n",
       "      <td>2.425551</td>\n",
       "      <td>2.995984</td>\n",
       "      <td>5.822691</td>\n",
       "      <td>2.895724</td>\n",
       "      <td>NaN</td>\n",
       "      <td>4.174759</td>\n",
       "    </tr>\n",
       "    <tr>\n",
       "      <th>subaru</th>\n",
       "      <td>0.994601</td>\n",
       "      <td>2.008475</td>\n",
       "      <td>1.712571</td>\n",
       "      <td>1.277768</td>\n",
       "      <td>2.002224</td>\n",
       "      <td>1.222002</td>\n",
       "      <td>1.495345</td>\n",
       "      <td>2.141743</td>\n",
       "      <td>4.174759</td>\n",
       "      <td>NaN</td>\n",
       "    </tr>\n",
       "  </tbody>\n",
       "</table>\n",
       "</div>"
      ],
      "text/plain": [
       "brand               bmw     acura      audi     honda  infiniti    toyota  \\\n",
       "brand                                                                       \n",
       "bmw                 NaN  1.427386  1.725855  1.203713  1.876981  1.541340   \n",
       "acura          1.427386       NaN  2.309928  2.792649  3.350761  1.716922   \n",
       "audi           1.725855  2.309928       NaN  1.296661  2.671177  1.210217   \n",
       "honda          1.203713  2.792649  1.296661       NaN  1.347528  3.812292   \n",
       "infiniti       1.876981  3.350761  2.671177  1.347528       NaN  1.141052   \n",
       "toyota         1.541340  1.716922  1.210217  3.812292  1.141052       NaN   \n",
       "mercedes-benz  1.934788  2.178785  3.773966  1.939399  2.457466  1.988434   \n",
       "nissan         1.124144  2.131491  1.436865  3.828790  2.819810  3.890545   \n",
       "volvo          1.419291  2.703471  4.564247  2.406438  2.425551  2.995984   \n",
       "subaru         0.994601  2.008475  1.712571  1.277768  2.002224  1.222002   \n",
       "\n",
       "brand          mercedes-benz    nissan     volvo    subaru  \n",
       "brand                                                       \n",
       "bmw                 1.934788  1.124144  1.419291  0.994601  \n",
       "acura               2.178785  2.131491  2.703471  2.008475  \n",
       "audi                3.773966  1.436865  4.564247  1.712571  \n",
       "honda               1.939399  3.828790  2.406438  1.277768  \n",
       "infiniti            2.457466  2.819810  2.425551  2.002224  \n",
       "toyota              1.988434  3.890545  2.995984  1.222002  \n",
       "mercedes-benz            NaN  1.400235  5.822691  1.495345  \n",
       "nissan              1.400235       NaN  2.895724  2.141743  \n",
       "volvo               5.822691  2.895724       NaN  4.174759  \n",
       "subaru              1.495345  2.141743  4.174759       NaN  "
      ]
     },
     "execution_count": 10,
     "metadata": {},
     "output_type": "execute_result"
    }
   ],
   "source": [
    "import itertools\n",
    "N = len(df)\n",
    "\n",
    "# get brand pairs\n",
    "pair_counts = Counter()\n",
    "for row in df['brands']:\n",
    "    words_in_row = set(row) & set(top_10['brand'])  # keep only top words\n",
    "    for a, b in itertools.combinations(sorted(words_in_row), 2):\n",
    "        pair_counts[(a, b)] += 1\n",
    "\n",
    "# compute lift\n",
    "lift_matrix = pd.DataFrame(index=top_10['brand'], columns=top_10['brand'], dtype=float)\n",
    "for (a, b), count in pair_counts.items():\n",
    "    lift = N * count / (int(top_10[top_10['brand'] == a]['frequency'].iloc[0]) * int(top_10[top_10['brand'] == b]['frequency'].iloc[0]))\n",
    "    lift_matrix.loc[a, b] = lift\n",
    "    lift_matrix.loc[b, a] = lift\n",
    "\n",
    "lift_matrix"
   ]
  },
  {
   "cell_type": "code",
   "execution_count": 11,
   "id": "cf92b0cb",
   "metadata": {},
   "outputs": [
    {
     "name": "stderr",
     "output_type": "stream",
     "text": [
      "c:\\ProgramData\\anaconda3\\Lib\\site-packages\\sklearn\\manifold\\_mds.py:677: FutureWarning: The default value of `n_init` will change from 4 to 1 in 1.9.\n",
      "  warnings.warn(\n",
      "c:\\ProgramData\\anaconda3\\Lib\\site-packages\\sklearn\\manifold\\_mds.py:687: UserWarning: The MDS API has changed. ``fit`` now constructs a dissimilarity matrix from data. To use a custom dissimilarity matrix, set ``dissimilarity='precomputed'``.\n",
      "  warnings.warn(\n"
     ]
    },
    {
     "name": "stdout",
     "output_type": "stream",
     "text": [
      "Dimension of X after MDS :  (10, 2)\n"
     ]
    },
    {
     "data": {
      "image/png": "[encoded data removed]",
      "text/plain": [
       "<Figure size 640x480 with 1 Axes>"
      ]
     },
     "metadata": {},
     "output_type": "display_data"
    }
   ],
   "source": [
    "from sklearn.manifold import MDS\n",
    "\n",
    "# get inverse lift for distance\n",
    "X = (1 / lift_matrix).fillna(0)\n",
    "\n",
    "mds = MDS(n_components=2, random_state=42)\n",
    "X_fit = mds.fit_transform(X)\n",
    "\n",
    "print('Dimension of X after MDS : ', X_fit.shape)\n",
    "\n",
    "# plot the results\n",
    "plt.scatter(X_fit[:, 0], X_fit[:, 1])\n",
    "for i, word in enumerate(top_10['brand']):\n",
    "    plt.text(X_fit[i, 0], X_fit[i, 1], word,fontsize=12, va=\"center\")\n",
    "plt.title(\"MDS Visualization\")\n",
    "plt.show()"
   ]
  },
  {
   "cell_type": "code",
   "execution_count": 12,
   "id": "fb2d8899",
   "metadata": {},
   "outputs": [],
   "source": [
    "word_counts = pd.DataFrame(Counter(re.findall(r'\\w+', df[\"cleaned_message\"].dropna().sum())).most_common(200), columns = ['word','frequency'])\n",
    "attributes = ['performance', 'luxury', 'price', 'interior', 'engine']\n",
    "# Ill be choosing the words performance, luxury, price, interior, engine after scanning the more frequent words"
   ]
  },
  {
   "cell_type": "code",
   "execution_count": 13,
   "id": "cc7235ed",
   "metadata": {},
   "outputs": [
    {
     "data": {
      "application/vnd.microsoft.datawrangler.viewer.v0+json": {
       "columns": [
        {
         "name": "brand",
         "rawType": "object",
         "type": "string"
        },
        {
         "name": "performance",
         "rawType": "float64",
         "type": "float"
        },
        {
         "name": "luxury",
         "rawType": "float64",
         "type": "float"
        },
        {
         "name": "price",
         "rawType": "float64",
         "type": "float"
        },
        {
         "name": "interior",
         "rawType": "float64",
         "type": "float"
        },
        {
         "name": "engine",
         "rawType": "float64",
         "type": "float"
        }
       ],
       "ref": "2d15992b-faff-43c9-839f-b6cf14b2b6b5",
       "rows": [
        [
         "bmw",
         "1.2307325212369016",
         "1.0002174587767352",
         "1.426245935031366",
         "1.025674832409986",
         "1.2821828397523078"
        ],
        [
         "acura",
         "1.2717943845313318",
         "1.4805760807043935",
         "1.4645917321300777",
         "1.3503578296919827",
         "1.5150644191182183"
        ],
        [
         "audi",
         "1.2951847950286688",
         "1.4127855086186156",
         "1.7029319861984265",
         "2.146562259789527",
         "1.7508413838209045"
        ],
        [
         "honda",
         "1.4815781151170146",
         "1.4931492267865658",
         "1.524691771642991",
         "1.1370200475705063",
         "1.5265582551642831"
        ],
        [
         "infiniti",
         "1.4068503756955282",
         "1.3966872034044406",
         "1.6564739854586708",
         "1.5923088361748485",
         "1.5717780604755847"
        ],
        [
         "toyota",
         "1.8297831099141009",
         "2.2391723199040103",
         "1.6201658294498578",
         "1.4304445759757982",
         "1.6034671342754956"
        ],
        [
         "mercedes-benz",
         "1.30334315389993",
         "1.9085794556132822",
         "1.4621463661498963",
         "1.1848945758892644",
         "1.4218387060223217"
        ],
        [
         "nissan",
         "1.3282598346531136",
         "1.0758504071945283",
         "1.3310549658907842",
         "1.186036459515242",
         "2.016096946829107"
        ],
        [
         "volvo",
         "1.2025403709871045",
         "1.899246737321538",
         "1.5067542213883678",
         "1.4034076015727392",
         "1.12911403528042"
        ],
        [
         "subaru",
         "1.3418065948229565",
         "1.8697161713499069",
         "1.3503929342631598",
         "1.3515521320177717",
         "1.3048723520929382"
        ]
       ],
       "shape": {
        "columns": 5,
        "rows": 10
       }
      },
      "text/html": [
       "<div>\n",
       "<style scoped>\n",
       "    .dataframe tbody tr th:only-of-type {\n",
       "        vertical-align: middle;\n",
       "    }\n",
       "\n",
       "    .dataframe tbody tr th {\n",
       "        vertical-align: top;\n",
       "    }\n",
       "\n",
       "    .dataframe thead th {\n",
       "        text-align: right;\n",
       "    }\n",
       "</style>\n",
       "<table border=\"1\" class=\"dataframe\">\n",
       "  <thead>\n",
       "    <tr style=\"text-align: right;\">\n",
       "      <th></th>\n",
       "      <th>performance</th>\n",
       "      <th>luxury</th>\n",
       "      <th>price</th>\n",
       "      <th>interior</th>\n",
       "      <th>engine</th>\n",
       "    </tr>\n",
       "    <tr>\n",
       "      <th>brand</th>\n",
       "      <th></th>\n",
       "      <th></th>\n",
       "      <th></th>\n",
       "      <th></th>\n",
       "      <th></th>\n",
       "    </tr>\n",
       "  </thead>\n",
       "  <tbody>\n",
       "    <tr>\n",
       "      <th>bmw</th>\n",
       "      <td>1.230733</td>\n",
       "      <td>1.000217</td>\n",
       "      <td>1.426246</td>\n",
       "      <td>1.025675</td>\n",
       "      <td>1.282183</td>\n",
       "    </tr>\n",
       "    <tr>\n",
       "      <th>acura</th>\n",
       "      <td>1.271794</td>\n",
       "      <td>1.480576</td>\n",
       "      <td>1.464592</td>\n",
       "      <td>1.350358</td>\n",
       "      <td>1.515064</td>\n",
       "    </tr>\n",
       "    <tr>\n",
       "      <th>audi</th>\n",
       "      <td>1.295185</td>\n",
       "      <td>1.412786</td>\n",
       "      <td>1.702932</td>\n",
       "      <td>2.146562</td>\n",
       "      <td>1.750841</td>\n",
       "    </tr>\n",
       "    <tr>\n",
       "      <th>honda</th>\n",
       "      <td>1.481578</td>\n",
       "      <td>1.493149</td>\n",
       "      <td>1.524692</td>\n",
       "      <td>1.137020</td>\n",
       "      <td>1.526558</td>\n",
       "    </tr>\n",
       "    <tr>\n",
       "      <th>infiniti</th>\n",
       "      <td>1.406850</td>\n",
       "      <td>1.396687</td>\n",
       "      <td>1.656474</td>\n",
       "      <td>1.592309</td>\n",
       "      <td>1.571778</td>\n",
       "    </tr>\n",
       "    <tr>\n",
       "      <th>toyota</th>\n",
       "      <td>1.829783</td>\n",
       "      <td>2.239172</td>\n",
       "      <td>1.620166</td>\n",
       "      <td>1.430445</td>\n",
       "      <td>1.603467</td>\n",
       "    </tr>\n",
       "    <tr>\n",
       "      <th>mercedes-benz</th>\n",
       "      <td>1.303343</td>\n",
       "      <td>1.908579</td>\n",
       "      <td>1.462146</td>\n",
       "      <td>1.184895</td>\n",
       "      <td>1.421839</td>\n",
       "    </tr>\n",
       "    <tr>\n",
       "      <th>nissan</th>\n",
       "      <td>1.328260</td>\n",
       "      <td>1.075850</td>\n",
       "      <td>1.331055</td>\n",
       "      <td>1.186036</td>\n",
       "      <td>2.016097</td>\n",
       "    </tr>\n",
       "    <tr>\n",
       "      <th>volvo</th>\n",
       "      <td>1.202540</td>\n",
       "      <td>1.899247</td>\n",
       "      <td>1.506754</td>\n",
       "      <td>1.403408</td>\n",
       "      <td>1.129114</td>\n",
       "    </tr>\n",
       "    <tr>\n",
       "      <th>subaru</th>\n",
       "      <td>1.341807</td>\n",
       "      <td>1.869716</td>\n",
       "      <td>1.350393</td>\n",
       "      <td>1.351552</td>\n",
       "      <td>1.304872</td>\n",
       "    </tr>\n",
       "  </tbody>\n",
       "</table>\n",
       "</div>"
      ],
      "text/plain": [
       "               performance    luxury     price  interior    engine\n",
       "brand                                                             \n",
       "bmw               1.230733  1.000217  1.426246  1.025675  1.282183\n",
       "acura             1.271794  1.480576  1.464592  1.350358  1.515064\n",
       "audi              1.295185  1.412786  1.702932  2.146562  1.750841\n",
       "honda             1.481578  1.493149  1.524692  1.137020  1.526558\n",
       "infiniti          1.406850  1.396687  1.656474  1.592309  1.571778\n",
       "toyota            1.829783  2.239172  1.620166  1.430445  1.603467\n",
       "mercedes-benz     1.303343  1.908579  1.462146  1.184895  1.421839\n",
       "nissan            1.328260  1.075850  1.331055  1.186036  2.016097\n",
       "volvo             1.202540  1.899247  1.506754  1.403408  1.129114\n",
       "subaru            1.341807  1.869716  1.350393  1.351552  1.304872"
      ]
     },
     "execution_count": 13,
     "metadata": {},
     "output_type": "execute_result"
    }
   ],
   "source": [
    "trait_matrix = pd.DataFrame(index=top_10['brand'], columns=attributes, dtype=float)\n",
    "\n",
    "pair_counts = Counter()\n",
    "for row in df['cleaned_message']:\n",
    "    words_in_row = set(re.findall(r\"\\b[a-z0-9]+(?:-[a-z0-9]+)*\\b\", row))\n",
    "    for a, b in itertools.product(top_10['brand'], attributes):\n",
    "        if a in words_in_row and b in words_in_row:\n",
    "            pair_counts[(a, b)] += 1\n",
    "\n",
    "for (a, b), count in pair_counts.items():\n",
    "    lift = N * count / (int(top_10[top_10['brand'] == a]['frequency'].iloc[0]) * int(word_counts[word_counts['word'] == b]['frequency'].iloc[0]))\n",
    "    trait_matrix.loc[a, b] = lift\n",
    "\n",
    "# the lift values between car traits and brands\n",
    "trait_matrix"
   ]
  },
  {
   "cell_type": "code",
   "execution_count": null,
   "id": "f78ad604",
   "metadata": {},
   "outputs": [
    {
     "data": {
      "application/vnd.microsoft.datawrangler.viewer.v0+json": {
       "columns": [
        {
         "name": "brand",
         "rawType": "object",
         "type": "string"
        },
        {
         "name": "want",
         "rawType": "float64",
         "type": "float"
        },
        {
         "name": "would like",
         "rawType": "float64",
         "type": "float"
        },
        {
         "name": "planning",
         "rawType": "float64",
         "type": "float"
        },
        {
         "name": "plan to buy",
         "rawType": "float64",
         "type": "float"
        },
        {
         "name": "hope to get",
         "rawType": "float64",
         "type": "float"
        },
        {
         "name": "thinking of buying",
         "rawType": "float64",
         "type": "float"
        },
        {
         "name": "looking at",
         "rawType": "float64",
         "type": "float"
        },
        {
         "name": "dream",
         "rawType": "float64",
         "type": "float"
        },
        {
         "name": "own",
         "rawType": "float64",
         "type": "float"
        },
        {
         "name": "purchase",
         "rawType": "float64",
         "type": "float"
        },
        {
         "name": "hope",
         "rawType": "float64",
         "type": "float"
        },
        {
         "name": "wish",
         "rawType": "float64",
         "type": "float"
        }
       ],
       "ref": "dd922319-a893-451d-bf5f-69211b38b75a",
       "rows": [
        [
         "bmw",
         "17.139705204974668",
         "1.4796867802855826",
         "0.24661446338093046",
         null,
         null,
         null,
         "0.36992169507139566",
         "0.4932289267618609",
         "2.5894518654997696",
         "2.3839398126823275",
         "2.5894518654997696",
         "1.109765085214187"
        ],
        [
         "acura",
         "17.741531664212076",
         "1.7084437898870888",
         "0.3942562592047128",
         null,
         null,
         null,
         "0.3942562592047128",
         "0.3942562592047128",
         "3.1540500736377024",
         "2.628375061364752",
         "3.4168875797741776",
         "1.8398625429553264"
        ],
        [
         "audi",
         "21.13845690174804",
         "1.129535864978903",
         "0.32272453285111513",
         null,
         null,
         null,
         "0.4840867992766727",
         "0.9681735985533454",
         "3.8726943942133816",
         "1.9363471971066908",
         "2.4204339963833634",
         "1.7749849306811332"
        ],
        [
         "honda",
         "20.18373015873016",
         "1.5934523809523808",
         "0.5311507936507937",
         null,
         null,
         null,
         "0.5311507936507937",
         null,
         "3.1869047619047617",
         "4.249206349206349",
         "3.7180555555555554",
         "1.5934523809523808"
        ],
        [
         "infiniti",
         "20.18597603946441",
         "2.8298097251585626",
         "0.1886539816772375",
         null,
         null,
         null,
         "0.377307963354475",
         "0.377307963354475",
         "3.0184637068358",
         "2.26384778012685",
         "5.659619450317125",
         "2.8298097251585626"
        ],
        [
         "toyota",
         "25.906451612903226",
         "2.878494623655914",
         "0.47974910394265236",
         null,
         null,
         null,
         "0.23987455197132618",
         "0.47974910394265236",
         "4.077867383512545",
         "3.358243727598566",
         "3.5981182795698925",
         "3.358243727598566"
        ],
        [
         "mercedes-benz",
         "19.66655701754386",
         "1.4676535087719298",
         null,
         null,
         null,
         null,
         "0.8805921052631579",
         "0.29353070175438595",
         "1.7611842105263158",
         "2.054714912280702",
         "2.641776315789474",
         "1.4676535087719298"
        ],
        [
         "nissan",
         "17.657479387514723",
         "0.9459363957597173",
         "0.31531213191990576",
         null,
         null,
         null,
         "0.6306242638398115",
         null,
         "3.4684334511189636",
         "2.522497055359246",
         "5.6756183745583035",
         "2.2071849234393404"
        ],
        [
         "volvo",
         "22.945714285714285",
         "1.4568707482993197",
         "0.36421768707482993",
         null,
         null,
         null,
         null,
         null,
         "2.5495238095238095",
         "2.5495238095238095",
         "1.0926530612244898",
         "1.4568707482993197"
        ],
        [
         "subaru",
         "15.994654088050314",
         "1.6836477987421383",
         "0.4209119496855346",
         null,
         null,
         null,
         null,
         "0.4209119496855346",
         "2.104559748427673",
         "2.104559748427673",
         "1.6836477987421383",
         "1.6836477987421383"
        ]
       ],
       "shape": {
        "columns": 12,
        "rows": 10
       }
      },
      "text/html": [
       "<div>\n",
       "<style scoped>\n",
       "    .dataframe tbody tr th:only-of-type {\n",
       "        vertical-align: middle;\n",
       "    }\n",
       "\n",
       "    .dataframe tbody tr th {\n",
       "        vertical-align: top;\n",
       "    }\n",
       "\n",
       "    .dataframe thead th {\n",
       "        text-align: right;\n",
       "    }\n",
       "</style>\n",
       "<table border=\"1\" class=\"dataframe\">\n",
       "  <thead>\n",
       "    <tr style=\"text-align: right;\">\n",
       "      <th></th>\n",
       "      <th>want</th>\n",
       "      <th>would like</th>\n",
       "      <th>planning</th>\n",
       "      <th>plan to buy</th>\n",
       "      <th>hope to get</th>\n",
       "      <th>thinking of buying</th>\n",
       "      <th>looking at</th>\n",
       "      <th>dream</th>\n",
       "      <th>own</th>\n",
       "      <th>purchase</th>\n",
       "      <th>hope</th>\n",
       "      <th>wish</th>\n",
       "    </tr>\n",
       "    <tr>\n",
       "      <th>brand</th>\n",
       "      <th></th>\n",
       "      <th></th>\n",
       "      <th></th>\n",
       "      <th></th>\n",
       "      <th></th>\n",
       "      <th></th>\n",
       "      <th></th>\n",
       "      <th></th>\n",
       "      <th></th>\n",
       "      <th></th>\n",
       "      <th></th>\n",
       "      <th></th>\n",
       "    </tr>\n",
       "  </thead>\n",
       "  <tbody>\n",
       "    <tr>\n",
       "      <th>bmw</th>\n",
       "      <td>17.139705</td>\n",
       "      <td>1.479687</td>\n",
       "      <td>0.246614</td>\n",
       "      <td>NaN</td>\n",
       "      <td>NaN</td>\n",
       "      <td>NaN</td>\n",
       "      <td>0.369922</td>\n",
       "      <td>0.493229</td>\n",
       "      <td>2.589452</td>\n",
       "      <td>2.383940</td>\n",
       "      <td>2.589452</td>\n",
       "      <td>1.109765</td>\n",
       "    </tr>\n",
       "    <tr>\n",
       "      <th>acura</th>\n",
       "      <td>17.741532</td>\n",
       "      <td>1.708444</td>\n",
       "      <td>0.394256</td>\n",
       "      <td>NaN</td>\n",
       "      <td>NaN</td>\n",
       "      <td>NaN</td>\n",
       "      <td>0.394256</td>\n",
       "      <td>0.394256</td>\n",
       "      <td>3.154050</td>\n",
       "      <td>2.628375</td>\n",
       "      <td>3.416888</td>\n",
       "      <td>1.839863</td>\n",
       "    </tr>\n",
       "    <tr>\n",
       "      <th>audi</th>\n",
       "      <td>21.138457</td>\n",
       "      <td>1.129536</td>\n",
       "      <td>0.322725</td>\n",
       "      <td>NaN</td>\n",
       "      <td>NaN</td>\n",
       "      <td>NaN</td>\n",
       "      <td>0.484087</td>\n",
       "      <td>0.968174</td>\n",
       "      <td>3.872694</td>\n",
       "      <td>1.936347</td>\n",
       "      <td>2.420434</td>\n",
       "      <td>1.774985</td>\n",
       "    </tr>\n",
       "    <tr>\n",
       "      <th>honda</th>\n",
       "      <td>20.183730</td>\n",
       "      <td>1.593452</td>\n",
       "      <td>0.531151</td>\n",
       "      <td>NaN</td>\n",
       "      <td>NaN</td>\n",
       "      <td>NaN</td>\n",
       "      <td>0.531151</td>\n",
       "      <td>NaN</td>\n",
       "      <td>3.186905</td>\n",
       "      <td>4.249206</td>\n",
       "      <td>3.718056</td>\n",
       "      <td>1.593452</td>\n",
       "    </tr>\n",
       "    <tr>\n",
       "      <th>infiniti</th>\n",
       "      <td>20.185976</td>\n",
       "      <td>2.829810</td>\n",
       "      <td>0.188654</td>\n",
       "      <td>NaN</td>\n",
       "      <td>NaN</td>\n",
       "      <td>NaN</td>\n",
       "      <td>0.377308</td>\n",
       "      <td>0.377308</td>\n",
       "      <td>3.018464</td>\n",
       "      <td>2.263848</td>\n",
       "      <td>5.659619</td>\n",
       "      <td>2.829810</td>\n",
       "    </tr>\n",
       "    <tr>\n",
       "      <th>toyota</th>\n",
       "      <td>25.906452</td>\n",
       "      <td>2.878495</td>\n",
       "      <td>0.479749</td>\n",
       "      <td>NaN</td>\n",
       "      <td>NaN</td>\n",
       "      <td>NaN</td>\n",
       "      <td>0.239875</td>\n",
       "      <td>0.479749</td>\n",
       "      <td>4.077867</td>\n",
       "      <td>3.358244</td>\n",
       "      <td>3.598118</td>\n",
       "      <td>3.358244</td>\n",
       "    </tr>\n",
       "    <tr>\n",
       "      <th>mercedes-benz</th>\n",
       "      <td>19.666557</td>\n",
       "      <td>1.467654</td>\n",
       "      <td>NaN</td>\n",
       "      <td>NaN</td>\n",
       "      <td>NaN</td>\n",
       "      <td>NaN</td>\n",
       "      <td>0.880592</td>\n",
       "      <td>0.293531</td>\n",
       "      <td>1.761184</td>\n",
       "      <td>2.054715</td>\n",
       "      <td>2.641776</td>\n",
       "      <td>1.467654</td>\n",
       "    </tr>\n",
       "    <tr>\n",
       "      <th>nissan</th>\n",
       "      <td>17.657479</td>\n",
       "      <td>0.945936</td>\n",
       "      <td>0.315312</td>\n",
       "      <td>NaN</td>\n",
       "      <td>NaN</td>\n",
       "      <td>NaN</td>\n",
       "      <td>0.630624</td>\n",
       "      <td>NaN</td>\n",
       "      <td>3.468433</td>\n",
       "      <td>2.522497</td>\n",
       "      <td>5.675618</td>\n",
       "      <td>2.207185</td>\n",
       "    </tr>\n",
       "    <tr>\n",
       "      <th>volvo</th>\n",
       "      <td>22.945714</td>\n",
       "      <td>1.456871</td>\n",
       "      <td>0.364218</td>\n",
       "      <td>NaN</td>\n",
       "      <td>NaN</td>\n",
       "      <td>NaN</td>\n",
       "      <td>NaN</td>\n",
       "      <td>NaN</td>\n",
       "      <td>2.549524</td>\n",
       "      <td>2.549524</td>\n",
       "      <td>1.092653</td>\n",
       "      <td>1.456871</td>\n",
       "    </tr>\n",
       "    <tr>\n",
       "      <th>subaru</th>\n",
       "      <td>15.994654</td>\n",
       "      <td>1.683648</td>\n",
       "      <td>0.420912</td>\n",
       "      <td>NaN</td>\n",
       "      <td>NaN</td>\n",
       "      <td>NaN</td>\n",
       "      <td>NaN</td>\n",
       "      <td>0.420912</td>\n",
       "      <td>2.104560</td>\n",
       "      <td>2.104560</td>\n",
       "      <td>1.683648</td>\n",
       "      <td>1.683648</td>\n",
       "    </tr>\n",
       "  </tbody>\n",
       "</table>\n",
       "</div>"
      ],
      "text/plain": [
       "                    want  would like  planning  plan to buy  hope to get  \\\n",
       "brand                                                                      \n",
       "bmw            17.139705    1.479687  0.246614          NaN          NaN   \n",
       "acura          17.741532    1.708444  0.394256          NaN          NaN   \n",
       "audi           21.138457    1.129536  0.322725          NaN          NaN   \n",
       "honda          20.183730    1.593452  0.531151          NaN          NaN   \n",
       "infiniti       20.185976    2.829810  0.188654          NaN          NaN   \n",
       "toyota         25.906452    2.878495  0.479749          NaN          NaN   \n",
       "mercedes-benz  19.666557    1.467654       NaN          NaN          NaN   \n",
       "nissan         17.657479    0.945936  0.315312          NaN          NaN   \n",
       "volvo          22.945714    1.456871  0.364218          NaN          NaN   \n",
       "subaru         15.994654    1.683648  0.420912          NaN          NaN   \n",
       "\n",
       "               thinking of buying  looking at     dream       own  purchase  \\\n",
       "brand                                                                         \n",
       "bmw                           NaN    0.369922  0.493229  2.589452  2.383940   \n",
       "acura                         NaN    0.394256  0.394256  3.154050  2.628375   \n",
       "audi                          NaN    0.484087  0.968174  3.872694  1.936347   \n",
       "honda                         NaN    0.531151       NaN  3.186905  4.249206   \n",
       "infiniti                      NaN    0.377308  0.377308  3.018464  2.263848   \n",
       "toyota                        NaN    0.239875  0.479749  4.077867  3.358244   \n",
       "mercedes-benz                 NaN    0.880592  0.293531  1.761184  2.054715   \n",
       "nissan                        NaN    0.630624       NaN  3.468433  2.522497   \n",
       "volvo                         NaN         NaN       NaN  2.549524  2.549524   \n",
       "subaru                        NaN         NaN  0.420912  2.104560  2.104560   \n",
       "\n",
       "                   hope      wish  \n",
       "brand                              \n",
       "bmw            2.589452  1.109765  \n",
       "acura          3.416888  1.839863  \n",
       "audi           2.420434  1.774985  \n",
       "honda          3.718056  1.593452  \n",
       "infiniti       5.659619  2.829810  \n",
       "toyota         3.598118  3.358244  \n",
       "mercedes-benz  2.641776  1.467654  \n",
       "nissan         5.675618  2.207185  \n",
       "volvo          1.092653  1.456871  \n",
       "subaru         1.683648  1.683648  "
      ]
     },
     "execution_count": 15,
     "metadata": {},
     "output_type": "execute_result"
    }
   ],
   "source": [
    "# phrases that would be mentioned to show commenter aspiration\n",
    "aspiration_keywords = [\"want\", \"would like\", \"planning\", \"plan to buy\", \"hope to get\", \"thinking of buying\", \"looking at\", \"dream\", \"own\", \"purchase\", \"hope\", \"wish\"]\n",
    "\n",
    "pair_counts = Counter()\n",
    "for row in df['cleaned_message']:\n",
    "    words_in_row = set(re.findall(r\"\\b[a-z0-9]+(?:-[a-z0-9]+)*\\b\", row))\n",
    "    for a, b in itertools.product(top_10['brand'], aspiration_keywords):\n",
    "        has_aspiration =  re.search(r\"\\b\" + re.escape(b) + r\"\\b\", row.lower()) is not None\n",
    "        if a in words_in_row and has_aspiration:\n",
    "            pair_counts[(a, b)] += 1\n",
    "\n",
    "aspiration_matrix = pd.DataFrame(index=top_10['brand'], columns=aspiration_keywords, dtype=float)\n",
    "\n",
    "for (a, b), count in pair_counts.items():\n",
    "    lift = N * count / (int(top_10[top_10['brand'] == a]['frequency'].iloc[0]) * int(df[df['cleaned_message'].str.contains(\"would like\")].count().iloc[0]))\n",
    "    aspiration_matrix.loc[a, b] = lift\n",
    "\n",
    "# which brands do buyers aspire to obtain using lift\n",
    "aspiration_matrix"
   ]
  }
 ],
 "metadata": {
  "kernelspec": {
   "display_name": "base",
   "language": "python",
   "name": "python3"
  },
  "language_info": {
   "codemirror_mode": {
    "name": "ipython",
    "version": 3
   },
   "file_extension": ".py",
   "mimetype": "text/x-python",
   "name": "python",
   "nbconvert_exporter": "python",
   "pygments_lexer": "ipython3",
   "version": "3.11.13"
  }
 },
 "nbformat": 4,
 "nbformat_minor": 5
}
