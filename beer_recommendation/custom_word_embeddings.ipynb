{
 "cells": [
  {
   "cell_type": "markdown",
   "id": "8dcbfed1-af87-4747-a6e9-56daa85aebe5",
   "metadata": {},
   "source": [
    "# Custom Word Embeddings for Beer Reviews\n",
    "\n",
    "This notebook demonstrates how to train custom word embeddings on the beer review corpus to capture semantic relationships specific to beer descriptions. These embeddings are used to enhance the recommendation system by allowing attribute vectors to be derived from domain‑specific context.\n",
    "\n",
    "# Task D\n",
    "\n",
    "Create custom word embeddings from your product review data instead of using the default\r\n",
    "SpaCy word embeddings.\n",
    "\n",
    " Do your top-3 recommendations change when using your own embedding?\n",
    "\n",
    "\r\n",
    "You can use either SpaCy or Gensim in creating your custom embeddings."
   ]
  },
  {
   "cell_type": "code",
   "execution_count": 1,
   "id": "e67928bb-678c-4c4d-a4b3-1b7f4f0bb1d9",
   "metadata": {},
   "outputs": [
    {
     "data": {
      "text/html": [
       "<div>\n",
       "<style scoped>\n",
       "    .dataframe tbody tr th:only-of-type {\n",
       "        vertical-align: middle;\n",
       "    }\n",
       "\n",
       "    .dataframe tbody tr th {\n",
       "        vertical-align: top;\n",
       "    }\n",
       "\n",
       "    .dataframe thead th {\n",
       "        text-align: right;\n",
       "    }\n",
       "</style>\n",
       "<table border=\"1\" class=\"dataframe\">\n",
       "  <thead>\n",
       "    <tr style=\"text-align: right;\">\n",
       "      <th></th>\n",
       "      <th>product_name</th>\n",
       "      <th>product_review</th>\n",
       "      <th>user_rating</th>\n",
       "      <th>clean_text</th>\n",
       "    </tr>\n",
       "  </thead>\n",
       "  <tbody>\n",
       "    <tr>\n",
       "      <th>0</th>\n",
       "      <td>Kentucky Brunch Brand Stout</td>\n",
       "      <td>Good</td>\n",
       "      <td>4.41</td>\n",
       "      <td>good</td>\n",
       "    </tr>\n",
       "    <tr>\n",
       "      <th>1</th>\n",
       "      <td>Kentucky Brunch Brand Stout</td>\n",
       "      <td>Pours the purest black color you’ve ever seen,...</td>\n",
       "      <td>4.94</td>\n",
       "      <td>pours purest black color youve ever seen swall...</td>\n",
       "    </tr>\n",
       "    <tr>\n",
       "      <th>2</th>\n",
       "      <td>Kentucky Brunch Brand Stout</td>\n",
       "      <td>This beer is intense, and yet, it feels very s...</td>\n",
       "      <td>4.98</td>\n",
       "      <td>beer intense yet feels smooth chocolate notes ...</td>\n",
       "    </tr>\n",
       "    <tr>\n",
       "      <th>3</th>\n",
       "      <td>Kentucky Brunch Brand Stout</td>\n",
       "      <td>2022 vintage poured at fridge temp but tasted ...</td>\n",
       "      <td>4.43</td>\n",
       "      <td>2022 vintage poured fridge temp tasted warmed ...</td>\n",
       "    </tr>\n",
       "    <tr>\n",
       "      <th>4</th>\n",
       "      <td>Kentucky Brunch Brand Stout</td>\n",
       "      <td>Sampled at the brewery, this is the 2022 bottl...</td>\n",
       "      <td>4.61</td>\n",
       "      <td>sampled brewery 2022 bottle version beer pours...</td>\n",
       "    </tr>\n",
       "  </tbody>\n",
       "</table>\n",
       "</div>"
      ],
      "text/plain": [
       "                  product_name  \\\n",
       "0  Kentucky Brunch Brand Stout   \n",
       "1  Kentucky Brunch Brand Stout   \n",
       "2  Kentucky Brunch Brand Stout   \n",
       "3  Kentucky Brunch Brand Stout   \n",
       "4  Kentucky Brunch Brand Stout   \n",
       "\n",
       "                                      product_review  user_rating  \\\n",
       "0                                               Good         4.41   \n",
       "1  Pours the purest black color you’ve ever seen,...         4.94   \n",
       "2  This beer is intense, and yet, it feels very s...         4.98   \n",
       "3  2022 vintage poured at fridge temp but tasted ...         4.43   \n",
       "4  Sampled at the brewery, this is the 2022 bottl...         4.61   \n",
       "\n",
       "                                          clean_text  \n",
       "0                                               good  \n",
       "1  pours purest black color youve ever seen swall...  \n",
       "2  beer intense yet feels smooth chocolate notes ...  \n",
       "3  2022 vintage poured fridge temp tasted warmed ...  \n",
       "4  sampled brewery 2022 bottle version beer pours...  "
      ]
     },
     "execution_count": 1,
     "metadata": {},
     "output_type": "execute_result"
    }
   ],
   "source": [
    "import pandas as pd\n",
    "import re, string\n",
    "\n",
    "beer_stats = pd.read_csv(\"beer_stats.csv\")\n",
    "reviews = pd.read_csv(\"beer_reviews.csv\")\n",
    "\n",
    "reviews.head()"
   ]
  },
  {
   "cell_type": "code",
   "execution_count": 2,
   "id": "7eda85f3-ce64-4662-bb93-fbff0b2ba847",
   "metadata": {},
   "outputs": [],
   "source": [
    "# User's input (aka query vector) for the 3 attributes the user wants\n",
    "keywords = [\"chocolate\", \"dark\", \"coffee\"]\n",
    "\n",
    "# Tokenize each attribute and retrieve embeddings for each attribute word"
   ]
  },
  {
   "cell_type": "markdown",
   "id": "963e8109-232d-4f83-aa02-897634c29406",
   "metadata": {},
   "source": [
    "## Creating custom word embeddings using Gensim"
   ]
  },
  {
   "cell_type": "code",
   "execution_count": 3,
   "id": "f00ea487-6d01-44c9-a050-c87a8bb48702",
   "metadata": {},
   "outputs": [],
   "source": [
    "from gensim.models.phrases import Phrases, Phraser\n",
    "from gensim.utils import simple_preprocess\n",
    "\n",
    "# Retrieving text\n",
    "texts = reviews[\"clean_text\"].fillna(\"\").astype(str) # fill na's\n",
    "\n",
    "# Normalization\n",
    "def normalize(txt):\n",
    "    txt = txt.lower()\n",
    "    txt = re.sub(r\"\\s+\", \" \", txt)\n",
    "    return txt.strip()\n",
    "\n",
    "# Tokenize into lists of words, and cleans text through simple_preprocess\n",
    "# simple_preprocess does lowercasing, punctuation removal, basic tokenization\n",
    "tokens = [simple_preprocess(normalize(t), deacc = True, min_len = 2) for t in texts] # Arguments get rid of accents (deacc) and gets rid of one-letter words like \"I\"\n",
    "\n",
    "# Token is a list of lists, with individual lists representing the reviews, and words each being an element within that list\n",
    "\n",
    "# Phrases() scans to find words that frequently co-occur and should be merged into one token\n",
    "# forms multi-word phrases (like \"new_york\") from text, joining them with an underscore\n",
    "bigram  = Phrases(tokens, min_count=10, threshold=10) \n",
    "trigram = Phrases(bigram[tokens], min_count=10, threshold=10) # phrases need to occur minimum of 10 times, threshold = 10 only promote pairs to phrases if their co-occurrence is ~10× more likely than chance (similar to lift)\n",
    "\n",
    "# Phraser() compiles the heavy Phrases models into faster, memory-efficient transformers for application time\n",
    "# Contains only the finalized merge rules (which pairs → merge)\n",
    "bigram_phraser = Phraser(bigram)\n",
    "trigram_phraser = Phraser(trigram)\n",
    "\n",
    "# We use both bigrams and trigrams to capture both 2-token and 3-token phrases, and build our trigrams on top of our bigrams to do so\n",
    "# sentences is, similar to tokens, a list of lists but this time combines tokens into bigrams or trigrams if they meet the requirements to do so\n",
    "sentences = [trigram_phraser[bigram_phraser[t]] for t in tokens]"
   ]
  },
  {
   "cell_type": "markdown",
   "id": "b18968af-2b62-49af-82c0-0b1bf066436a",
   "metadata": {},
   "source": [
    "sentences is a list of lists of our reviews, but with the words/tokens as bigrams or trigrams if they meet the requirements to do so; simply one word tokens within the list otherwise"
   ]
  },
  {
   "cell_type": "markdown",
   "id": "184885a3-5c37-465d-a440-e5ca742eaa29",
   "metadata": {},
   "source": [
    "### Training Word2Vec with our tokenized reviews"
   ]
  },
  {
   "cell_type": "code",
   "execution_count": 4,
   "id": "0c3ea7e0-e6cc-479c-bdb8-ba09781673de",
   "metadata": {},
   "outputs": [
    {
     "data": {
      "text/plain": [
       "<gensim.models.keyedvectors.KeyedVectors at 0x1d3b5c135b0>"
      ]
     },
     "execution_count": 4,
     "metadata": {},
     "output_type": "execute_result"
    }
   ],
   "source": [
    "from gensim.models import Word2Vec\n",
    "\n",
    "# Creates a numeric vector for each token such that words used in similar contexts end up near each other in the vector space\n",
    "w2v = Word2Vec(\n",
    "    sentences=sentences,\n",
    "    vector_size=200,      \n",
    "    window=5,             # Context size (up to 5 words before and after) ie. With window=5, “barrel_aged” will pair with words up to 5 away in the same review\n",
    "    min_count=5,          # Tokens occurring fewer than 5 times are discarded\n",
    "    workers=4,\n",
    "    sg=1,                 # 1=skip-gram aka given center word, predict context words. Works better for rare words\n",
    "    negative=10,          # Use negative sampling in order to not calculate 10k probabilities each step\n",
    "    sample=1e-5,          # Subsampling; randomly discards a fraction of very frequent tokens so they don’t dominate training\n",
    "    epochs=10,            # Number of passes over the corpus. More epochs = more training\n",
    "    seed = 42\n",
    ")\n",
    "\n",
    "# Model\n",
    "model = w2v  # or ft\n",
    "model.save(\"beer_reviews.w2v\")\n",
    "\n",
    "model.wv"
   ]
  },
  {
   "cell_type": "markdown",
   "id": "84753626-a52d-4868-b633-941225c8a6a0",
   "metadata": {},
   "source": [
    "### Quick check of model"
   ]
  },
  {
   "cell_type": "code",
   "execution_count": 28,
   "id": "c21b856c-f5db-493c-b135-1cf49afcc287",
   "metadata": {},
   "outputs": [
    {
     "data": {
      "text/plain": [
       "[('chocolate', 0.996605634689331),\n",
       " ('dark_chocolate', 0.9919734597206116),\n",
       " ('bourbon', 0.9902859330177307),\n",
       " ('coconut', 0.989770770072937),\n",
       " ('cocoa', 0.9895609617233276),\n",
       " ('cinnamon', 0.9886811375617981),\n",
       " ('vanilla', 0.987617552280426),\n",
       " ('barrel', 0.986538290977478),\n",
       " ('molasses', 0.9864659309387207),\n",
       " ('fudge', 0.9857189655303955)]"
      ]
     },
     "execution_count": 28,
     "metadata": {},
     "output_type": "execute_result"
    }
   ],
   "source": [
    "# Results make sense\n",
    "model.wv.most_similar(\"coffee\", topn=10)"
   ]
  },
  {
   "cell_type": "markdown",
   "id": "1eded733-898c-4b14-82f7-980ecf0bc69f",
   "metadata": {},
   "source": [
    "### Turn reviews/beers into vectors"
   ]
  },
  {
   "cell_type": "code",
   "execution_count": 6,
   "id": "f87446ee-4d50-43a6-9edb-6913991f1b14",
   "metadata": {},
   "outputs": [],
   "source": [
    "import numpy as np\n",
    "# Convert all review vectors aligned with a specific beer into one condensed vector with the \"average flavor profile\"\n",
    "# Then compare that average flavor profile vector with the user's 3 attributes\n",
    "\n",
    "# Creating review vector\n",
    "# kv[w] rgabs vector aligned with each specific word/phrase\n",
    "# Each word has a set vector, so we're averaging all the words in a review into one vector\n",
    "# Then again averaging every review related to a singular beer to one beer vector (averaging twice)\n",
    "def doc_vector(tokens, kv, use_tfidf=False):\n",
    "    # simple average\n",
    "    vecs = [kv[w] for w in tokens if w in kv]\n",
    "    return np.mean(vecs, axis=0) if vecs else np.zeros(kv.vector_size)\n",
    "    \n",
    "review_tokens = sentences # sentences being the list of lists of word/tokens\n",
    "review_vecs = [doc_vector(t, model.wv) for t in review_tokens] # creating review vectors\n",
    "\n",
    "# Attach those review-level vectors onto Review dataframe\n",
    "reviews_with_vecs = reviews.copy() \n",
    "reviews_with_vecs[\"__vec\"] = review_vecs\n",
    "\n",
    "# Create a Series that maps each product_name → its beer-level vector\n",
    "# Each beer-level vector is the mean of its review vectors\n",
    "beer_vecs = (reviews_with_vecs\n",
    "             .groupby(\"product_name\")[\"__vec\"]\n",
    "             .apply(lambda arr: np.mean(np.stack(arr), axis=0))\n",
    "            )"
   ]
  },
  {
   "cell_type": "code",
   "execution_count": 7,
   "id": "dc19df02-1aed-40f4-b42b-3f08fe9afabc",
   "metadata": {},
   "outputs": [
    {
     "data": {
      "text/plain": [
       "product_name\n",
       "10 Year Barleywine                         [0.049762424, -0.0027068614, -0.06740016, -0.0...\n",
       "4th Anniversary                            [0.057966426, 0.00014716451, -0.06475773, -0.0...\n",
       "A Deal With The Devil - Double Oak-Aged    [0.050392777, -0.003247941, -0.06820337, -0.08...\n",
       "A Deal With The Devil - Triple Oak-Aged    [0.049019452, -0.0033946633, -0.066780366, -0....\n",
       "Aaron                                      [0.051318496, -0.0030460143, -0.0692233, -0.08...\n",
       "Name: __vec, dtype: object"
      ]
     },
     "execution_count": 7,
     "metadata": {},
     "output_type": "execute_result"
    }
   ],
   "source": [
    "beer_vecs[:5]"
   ]
  },
  {
   "cell_type": "code",
   "execution_count": 15,
   "id": "9444a419-392a-4480-b01b-cb1224f0be10",
   "metadata": {},
   "outputs": [],
   "source": [
    "# To calculate cosine similarity\n",
    "from numpy.linalg import norm\n",
    "\n",
    "# Turn the user's 3 attributes into one averaged-out query vector\n",
    "def wordset_vector(words, kv):\n",
    "    # average of attribute seed words; include phrases if you used phrasers\n",
    "    got = [kv[w] for w in words if w in kv]\n",
    "    return np.mean(got, axis=0) if got else np.zeros(kv.vector_size)\n",
    "\n",
    "# Computing cosine similarity\n",
    "def cosine(a, b):\n",
    "    na, nb = norm(a), norm(b)\n",
    "    return float(a @ b / (na*nb)) if na > 0 and nb > 0 else 0.0 # a @ b is the dot product, na and nb are the lengths, prevents division by 0 as well\n",
    "\n",
    "# Example user attributes\n",
    "attrs = [\"chocolate\", \"dark\", \"coffee\"]\n",
    "\n",
    "# Building query vector from our function\n",
    "qvec = wordset_vector(attrs, model.wv) \n",
    "\n",
    "# For each beer vector, compute cosine similarity with the query vector above\n",
    "scores = beer_vecs.apply(lambda v: cosine(qvec, v)).sort_values(ascending=False)\n",
    "\n",
    "# Cosine similarity score range -1 to 1\n",
    "top3 = scores.head(3)\n",
    "top23 = scores.head(23)"
   ]
  },
  {
   "cell_type": "markdown",
   "id": "807160d7-3dc5-4cdf-8b43-fa75a8a72f53",
   "metadata": {},
   "source": [
    "### Top 3 Recommendations:"
   ]
  },
  {
   "cell_type": "code",
   "execution_count": 16,
   "id": "79fb54b4-64a1-4a9f-bc60-86e9283afdf8",
   "metadata": {},
   "outputs": [
    {
     "data": {
      "text/plain": [
       "product_name\n",
       "Fundamental Forces                      0.962027\n",
       "Bourbon Paradise                        0.961523\n",
       "Speedway Stout - Bourbon Barrel-Aged    0.961389\n",
       "Name: __vec, dtype: float64"
      ]
     },
     "execution_count": 16,
     "metadata": {},
     "output_type": "execute_result"
    }
   ],
   "source": [
    "top3"
   ]
  },
  {
   "cell_type": "markdown",
   "id": "6fe83f5e-ac3a-4d8b-bf76-a2bf49c11623",
   "metadata": {},
   "source": [
    "### Show a table showing your three final recommendations along with 20 other top contenders so that I can understand how the top three got chosen. "
   ]
  },
  {
   "cell_type": "code",
   "execution_count": 27,
   "id": "f7a4dd16-e9eb-4f10-bb15-ba5d49e5c8ac",
   "metadata": {},
   "outputs": [
    {
     "data": {
      "text/html": [
       "<div>\n",
       "<style scoped>\n",
       "    .dataframe tbody tr th:only-of-type {\n",
       "        vertical-align: middle;\n",
       "    }\n",
       "\n",
       "    .dataframe tbody tr th {\n",
       "        vertical-align: top;\n",
       "    }\n",
       "\n",
       "    .dataframe thead th {\n",
       "        text-align: right;\n",
       "    }\n",
       "</style>\n",
       "<table border=\"1\" class=\"dataframe\">\n",
       "  <thead>\n",
       "    <tr style=\"text-align: right;\">\n",
       "      <th></th>\n",
       "      <th>Beer Name</th>\n",
       "      <th>Cosine Similarity</th>\n",
       "    </tr>\n",
       "  </thead>\n",
       "  <tbody>\n",
       "    <tr>\n",
       "      <th>0</th>\n",
       "      <td>Fundamental Forces</td>\n",
       "      <td>0.962027</td>\n",
       "    </tr>\n",
       "    <tr>\n",
       "      <th>1</th>\n",
       "      <td>Bourbon Paradise</td>\n",
       "      <td>0.961523</td>\n",
       "    </tr>\n",
       "    <tr>\n",
       "      <th>2</th>\n",
       "      <td>Speedway Stout - Bourbon Barrel-Aged</td>\n",
       "      <td>0.961389</td>\n",
       "    </tr>\n",
       "    <tr>\n",
       "      <th>3</th>\n",
       "      <td>Red Eye November</td>\n",
       "      <td>0.961021</td>\n",
       "    </tr>\n",
       "    <tr>\n",
       "      <th>4</th>\n",
       "      <td>Reaction State</td>\n",
       "      <td>0.960835</td>\n",
       "    </tr>\n",
       "    <tr>\n",
       "      <th>5</th>\n",
       "      <td>Somewhere, Something Incredible Is Waiting To ...</td>\n",
       "      <td>0.960809</td>\n",
       "    </tr>\n",
       "    <tr>\n",
       "      <th>6</th>\n",
       "      <td>Ten FIDY - Bourbon Barrel-Aged</td>\n",
       "      <td>0.960710</td>\n",
       "    </tr>\n",
       "    <tr>\n",
       "      <th>7</th>\n",
       "      <td>Bourbon Barrel Champion Ground</td>\n",
       "      <td>0.960596</td>\n",
       "    </tr>\n",
       "    <tr>\n",
       "      <th>8</th>\n",
       "      <td>Truth - Vanilla Bean</td>\n",
       "      <td>0.960345</td>\n",
       "    </tr>\n",
       "    <tr>\n",
       "      <th>9</th>\n",
       "      <td>Speedway Stout - Vietnamese Coffee - Bourbon B...</td>\n",
       "      <td>0.960258</td>\n",
       "    </tr>\n",
       "    <tr>\n",
       "      <th>10</th>\n",
       "      <td>Caffè Americano</td>\n",
       "      <td>0.960116</td>\n",
       "    </tr>\n",
       "    <tr>\n",
       "      <th>11</th>\n",
       "      <td>Mocha Wednesday</td>\n",
       "      <td>0.959662</td>\n",
       "    </tr>\n",
       "    <tr>\n",
       "      <th>12</th>\n",
       "      <td>B-Bomb - Coconut</td>\n",
       "      <td>0.959492</td>\n",
       "    </tr>\n",
       "    <tr>\n",
       "      <th>13</th>\n",
       "      <td>Expedition Stout - Bourbon Barrel-Aged</td>\n",
       "      <td>0.959456</td>\n",
       "    </tr>\n",
       "    <tr>\n",
       "      <th>14</th>\n",
       "      <td>Barrel-Aged Sump Coffee Stout</td>\n",
       "      <td>0.959289</td>\n",
       "    </tr>\n",
       "    <tr>\n",
       "      <th>15</th>\n",
       "      <td>Speedway Stout - Vietnamese Coffee - Rye Whisk...</td>\n",
       "      <td>0.959261</td>\n",
       "    </tr>\n",
       "    <tr>\n",
       "      <th>16</th>\n",
       "      <td>Bourbon Barrel Oro Negro</td>\n",
       "      <td>0.959086</td>\n",
       "    </tr>\n",
       "    <tr>\n",
       "      <th>17</th>\n",
       "      <td>Chocolate Rain</td>\n",
       "      <td>0.959052</td>\n",
       "    </tr>\n",
       "    <tr>\n",
       "      <th>18</th>\n",
       "      <td>Canuckley</td>\n",
       "      <td>0.958974</td>\n",
       "    </tr>\n",
       "    <tr>\n",
       "      <th>19</th>\n",
       "      <td>Fundamental Observation</td>\n",
       "      <td>0.958802</td>\n",
       "    </tr>\n",
       "    <tr>\n",
       "      <th>20</th>\n",
       "      <td>Coffee Cinnamon B-Bomb</td>\n",
       "      <td>0.958747</td>\n",
       "    </tr>\n",
       "    <tr>\n",
       "      <th>21</th>\n",
       "      <td>Barrel-Aged Silhouette</td>\n",
       "      <td>0.958743</td>\n",
       "    </tr>\n",
       "    <tr>\n",
       "      <th>22</th>\n",
       "      <td>Monster Tones</td>\n",
       "      <td>0.958728</td>\n",
       "    </tr>\n",
       "  </tbody>\n",
       "</table>\n",
       "</div>"
      ],
      "text/plain": [
       "                                            Beer Name  Cosine Similarity\n",
       "0                                  Fundamental Forces           0.962027\n",
       "1                                    Bourbon Paradise           0.961523\n",
       "2                Speedway Stout - Bourbon Barrel-Aged           0.961389\n",
       "3                                    Red Eye November           0.961021\n",
       "4                                      Reaction State           0.960835\n",
       "5   Somewhere, Something Incredible Is Waiting To ...           0.960809\n",
       "6                      Ten FIDY - Bourbon Barrel-Aged           0.960710\n",
       "7                      Bourbon Barrel Champion Ground           0.960596\n",
       "8                                Truth - Vanilla Bean           0.960345\n",
       "9   Speedway Stout - Vietnamese Coffee - Bourbon B...           0.960258\n",
       "10                                    Caffè Americano           0.960116\n",
       "11                                    Mocha Wednesday           0.959662\n",
       "12                                   B-Bomb - Coconut           0.959492\n",
       "13             Expedition Stout - Bourbon Barrel-Aged           0.959456\n",
       "14                      Barrel-Aged Sump Coffee Stout           0.959289\n",
       "15  Speedway Stout - Vietnamese Coffee - Rye Whisk...           0.959261\n",
       "16                           Bourbon Barrel Oro Negro           0.959086\n",
       "17                                     Chocolate Rain           0.959052\n",
       "18                                          Canuckley           0.958974\n",
       "19                            Fundamental Observation           0.958802\n",
       "20                             Coffee Cinnamon B-Bomb           0.958747\n",
       "21                             Barrel-Aged Silhouette           0.958743\n",
       "22                                      Monster Tones           0.958728"
      ]
     },
     "execution_count": 27,
     "metadata": {},
     "output_type": "execute_result"
    }
   ],
   "source": [
    "top23_df = top23.reset_index()\n",
    "top23_df.columns = [\"Beer Name\", \"Cosine Similarity\"]\n",
    "top23_df"
   ]
  },
  {
   "cell_type": "code",
   "execution_count": null,
   "id": "fd51b703-d4c7-4620-bc1b-db86ed6e5768",
   "metadata": {},
   "outputs": [],
   "source": []
  }
 ],
 "metadata": {
  "kernelspec": {
   "display_name": "Python [conda env:base] *",
   "language": "python",
   "name": "conda-base-py"
  },
  "language_info": {
   "codemirror_mode": {
    "name": "ipython",
    "version": 3
   },
   "file_extension": ".py",
   "mimetype": "text/x-python",
   "name": "python",
   "nbconvert_exporter": "python",
   "pygments_lexer": "ipython3",
   "version": "3.13.5"
  }
 },
 "nbformat": 4,
 "nbformat_minor": 5
}
